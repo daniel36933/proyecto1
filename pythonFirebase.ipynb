{
 "metadata": {
  "language_info": {
   "codemirror_mode": {
    "name": "ipython",
    "version": 3
   },
   "file_extension": ".py",
   "mimetype": "text/x-python",
   "name": "python",
   "nbconvert_exporter": "python",
   "pygments_lexer": "ipython3",
   "version": "3.9.1"
  },
  "orig_nbformat": 2,
  "kernelspec": {
   "name": "python391jvsc74a57bd06b4f6f11313f004683d1034e4e6245102a5e7cb50e566b29e3561b28a47847b8",
   "display_name": "Python 3.9.1 64-bit ('FireBase-8VkR1AcC': virtualenvwrapper)"
  }
 },
 "nbformat": 4,
 "nbformat_minor": 2,
 "cells": [
  {
   "cell_type": "code",
   "execution_count": 15,
   "metadata": {},
   "outputs": [],
   "source": [
    "from firebase import firebase"
   ]
  },
  {
   "cell_type": "code",
   "execution_count": 16,
   "metadata": {},
   "outputs": [
    {
     "output_type": "stream",
     "name": "stdout",
     "text": [
      "Alumno insertado\n"
     ]
    }
   ],
   "source": [
    "firebase = firebase.FirebaseApplication('https://proyectofire3-e1e73-default-rtdb.firebaseio.com/', None)\n",
    "\n",
    "data = firebase.get(\"/users\", None)\n",
    "\n",
    "#print(data)\n",
    "nombre = input(\"Introduce tu nombre\")\n",
    "s3 = {\n",
    "    \"name\":nombre,\n",
    "    \"edad\":15,\n",
    "    \"ciudad\":\"Tijuana\"\n",
    "}\n",
    "\n",
    "#print(s3)\n",
    "firebase.post(\"/users/\",s3)\n",
    "print(\"Alumno insertado\")"
   ]
  }
 ]
}